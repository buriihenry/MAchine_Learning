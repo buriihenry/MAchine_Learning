{
 "cells": [
  {
   "cell_type": "markdown",
   "metadata": {},
   "source": [
    "# REGRESSION"
   ]
  },
  {
   "cell_type": "markdown",
   "metadata": {},
   "source": [
    "Regression analysis consists of a set of machine learning methods that allow us to predict a continuous outcome variable (y) based on the value of one or multiple predictor variables (x). Briefly, the goal of regression model is to build a mathematical equation that defines y as a function of the x variables.\n",
    "\n",
    "Regression is a method of modelling a target value based on independent predictors."
   ]
  },
  {
   "cell_type": "markdown",
   "metadata": {},
   "source": [
    "Types of Regression\n",
    "\n",
    "Simple Linear Regression\n",
    "\n",
    "Polynomial Regression\n",
    "\n",
    "Support Vector Regression\n",
    "\n",
    "Decision Tree Regression\n",
    "\n",
    "Random Forest Regression\n",
    "\n",
    "Stepwise Regression\n",
    "\n",
    "Ridge Regression\n",
    "\n",
    "Lasso Regression\n",
    "\n",
    "ElasticNet Regression\n",
    "\n",
    "read more:\n",
    "\n",
    "https://medium.com/datadriveninvestor/regression-in-machine-learning-296caae933ec\n",
    "https://www.analyticsvidhya.com/blog/2015/08/comprehensive-guide-regression/"
   ]
  },
  {
   "cell_type": "code",
   "execution_count": null,
   "metadata": {},
   "outputs": [],
   "source": []
  },
  {
   "cell_type": "code",
   "execution_count": null,
   "metadata": {},
   "outputs": [],
   "source": []
  },
  {
   "cell_type": "code",
   "execution_count": null,
   "metadata": {},
   "outputs": [],
   "source": []
  },
  {
   "cell_type": "code",
   "execution_count": null,
   "metadata": {},
   "outputs": [],
   "source": [
    "\n"
   ]
  }
 ],
 "metadata": {
  "kernelspec": {
   "display_name": "Python 3",
   "language": "python",
   "name": "python3"
  },
  "language_info": {
   "codemirror_mode": {
    "name": "ipython",
    "version": 3
   },
   "file_extension": ".py",
   "mimetype": "text/x-python",
   "name": "python",
   "nbconvert_exporter": "python",
   "pygments_lexer": "ipython3",
   "version": "3.7.6"
  }
 },
 "nbformat": 4,
 "nbformat_minor": 4
}
